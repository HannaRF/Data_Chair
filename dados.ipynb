{
 "cells": [
  {
   "cell_type": "markdown",
   "metadata": {},
   "source": [
    "- grafo cujos nodes são os produtos filtrados na interface por categoria simplificada e rede de fast_food\n",
    "- tamanho dos nodes é proporcional a % de nutrientes nos produtos\n",
    "- tamanho das arestas é proporcional a % de nutrientes comuns entre os 2 produtos"
   ]
  },
  {
   "cell_type": "code",
   "execution_count": 12,
   "metadata": {},
   "outputs": [],
   "source": [
    "import os\n",
    "import sys\n",
    "import time\n",
    "import datetime\n",
    "import numpy as np\n",
    "import pandas as pd\n",
    "import pathlib\n",
    "import getpass\n",
    "\n",
    "# !pip install pymysql\n",
    "import pymysql"
   ]
  },
  {
   "cell_type": "code",
   "execution_count": 13,
   "metadata": {},
   "outputs": [
    {
     "name": "stdin",
     "output_type": "stream",
     "text": [
      " ·········\n"
     ]
    }
   ],
   "source": [
    "p = getpass.getpass()\n",
    "conn = pymysql.connect(host='localhost', port=3306, user='root', passwd = p) \n",
    "cur = conn.cursor()"
   ]
  },
  {
   "cell_type": "code",
   "execution_count": 14,
   "metadata": {},
   "outputs": [
    {
     "name": "stdout",
     "output_type": "stream",
     "text": [
      "('address',)\n",
      "('category',)\n",
      "('chain',)\n",
      "('nutricional_units',)\n",
      "('product',)\n",
      "('restaurant',)\n"
     ]
    }
   ],
   "source": [
    "cur.execute(\"USE fast_food;\")\n",
    "cur.execute(\"SHOW tables;\")\n",
    "for r in cur.fetchall():\n",
    "   print(r)"
   ]
  },
  {
   "cell_type": "code",
   "execution_count": 26,
   "metadata": {},
   "outputs": [
    {
     "name": "stdout",
     "output_type": "stream",
     "text": [
      "(1, 'WHOPPER')\n",
      "(2, 'MEAT SANDWICH')\n",
      "(3, 'CHICKEN SANDWICH')\n",
      "(4, 'VEGGIES')\n",
      "(5, 'SIDE DISH')\n",
      "(6, 'SAUCE')\n",
      "(7, 'ICE CREAM')\n",
      "(8, 'SHAKES')\n",
      "(9, 'BREAKFAST')\n",
      "(10, 'BEEF & PORK')\n",
      "(11, 'CHICKEN & FISH')\n",
      "(12, 'SALADS')\n",
      "(13, 'SNACKS & SIDES')\n",
      "(14, 'DESSERTS')\n",
      "(15, 'BEVERAGES')\n",
      "(16, 'COFFEE & TEA')\n",
      "(17, 'SMOOTHIES & SHAKES')\n",
      "(18, 'CROISSANT')\n",
      "(19, 'HEALTHY BREAD')\n",
      "(20, 'BAR AND SHORTBREAD')\n",
      "(21, 'COOKIE')\n",
      "(22, 'MUFFIN')\n",
      "(23, 'FAIRTRADE BANANA')\n",
      "(24, 'OATMEAL')\n",
      "(25, 'BREAKFAST SANDWICHES & SAVOURY MUFFINS')\n",
      "(26, 'TOASTIES')\n",
      "(27, 'SANDWICHES, PANINIS, WRAPS, ROLLS & FOCACCIAS')\n",
      "(28, 'HOT BOXES')\n",
      "(29, 'SALAD BOWLS')\n",
      "(30, 'COFFEE')\n",
      "(31, 'CAPPUCCINO')\n",
      "(32, 'MACCHIATO')\n",
      "(33, ' DOLCE LATTE')\n",
      "(34, 'MOCHA')\n",
      "(35, ' MOCHA')\n",
      "(36, 'DOUBLESHOT ')\n",
      "(37, 'TEA')\n",
      "(38, 'CHAI LATTE')\n",
      "(39, 'REFRESHERS')\n",
      "(40, 'SMOOTHIE')\n",
      "(41, ' BLENDED BEVERAGE')\n",
      "(42, 'OTHERS BEVERAGE')\n"
     ]
    }
   ],
   "source": [
    "# simplificar categorias\n",
    "cur.execute(\"SELECT * FROM fast_food.category;\") # LIMIT 10\n",
    "for r in cur.fetchall():\n",
    "   print(r)"
   ]
  },
  {
   "cell_type": "code",
   "execution_count": 36,
   "metadata": {},
   "outputs": [
    {
     "name": "stdout",
     "output_type": "stream",
     "text": [
      "(1, 'BURGER KING')\n",
      "(2, 'MCDONALDS')\n",
      "(3, 'STARBUCKS')\n"
     ]
    }
   ],
   "source": [
    "cur.execute(\"SELECT * FROM fast_food.chain;\") \n",
    "for r in cur.fetchall():\n",
    "   print(r)"
   ]
  },
  {
   "cell_type": "code",
   "execution_count": 32,
   "metadata": {},
   "outputs": [
    {
     "name": "stdout",
     "output_type": "stream",
     "text": [
      "('id_nutricional_units', 'int', 'NO', 'PRI', None, 'auto_increment')\n",
      "('calories', 'int', 'YES', '', None, '')\n",
      "('total_fat', 'int', 'YES', '', None, '')\n",
      "('saturated_fat', 'int', 'YES', '', None, '')\n",
      "('trans_fat', 'int', 'YES', '', None, '')\n",
      "('cholesterol', 'int', 'YES', '', None, '')\n",
      "('sodium', 'int', 'YES', '', None, '')\n",
      "('carbohydrates', 'int', 'YES', '', None, '')\n",
      "('dietary_fiber', 'int', 'YES', '', None, '')\n",
      "('sugars', 'int', 'YES', '', None, '')\n",
      "('protein', 'int', 'YES', '', None, '')\n",
      "('vitamin_a', 'int', 'YES', '', None, '')\n",
      "('vitamin_c', 'int', 'YES', '', None, '')\n",
      "('calcium', 'int', 'YES', '', None, '')\n",
      "('iron', 'int', 'YES', '', None, '')\n",
      "('salt', 'int', 'YES', '', None, '')\n",
      "('caffeine', 'int', 'YES', '', None, '')\n"
     ]
    }
   ],
   "source": [
    "cur.execute(\"DESCRIBE fast_food.nutricional_units;\") \n",
    "for r in cur.fetchall():\n",
    "   print(r)"
   ]
  },
  {
   "cell_type": "code",
   "execution_count": 34,
   "metadata": {
    "collapsed": true,
    "jupyter": {
     "outputs_hidden": true,
     "source_hidden": true
    }
   },
   "outputs": [
    {
     "name": "stdout",
     "output_type": "stream",
     "text": [
      "('id_address', 'int', 'NO', 'PRI', None, 'auto_increment')\n",
      "('address', 'varchar(1200)', 'YES', '', None, '')\n",
      "('city', 'varchar(45)', 'YES', '', None, '')\n",
      "('state', 'varchar(45)', 'YES', '', None, '')\n",
      "('post_code', 'varchar(45)', 'YES', '', None, '')\n",
      "('country', 'varchar(45)', 'YES', '', None, '')\n"
     ]
    }
   ],
   "source": [
    "cur.execute(\"DESCRIBE fast_food.address;\") \n",
    "for r in cur.fetchall():\n",
    "   print(r)"
   ]
  },
  {
   "cell_type": "code",
   "execution_count": 44,
   "metadata": {
    "collapsed": true,
    "jupyter": {
     "outputs_hidden": true,
     "source_hidden": true
    }
   },
   "outputs": [
    {
     "name": "stdout",
     "output_type": "stream",
     "text": [
      "(1, '864-366-2099', 1, 1)\n",
      "(2, '1 337-329-6352', 2, 1)\n",
      "(3, '1 337-329-6792', 3, 1)\n",
      "(4, '208-323-8807', 4, 1)\n",
      "(5, '208-853-8389', 5, 1)\n"
     ]
    }
   ],
   "source": [
    "cur.execute(\"SELECT * FROM fast_food.restaurant LIMIT 5;\")\n",
    "for r in cur.fetchall():\n",
    "   print(r)"
   ]
  },
  {
   "cell_type": "code",
   "execution_count": 59,
   "metadata": {},
   "outputs": [
    {
     "name": "stdout",
     "output_type": "stream",
     "text": [
      "(1, 'WHOPPER', 1, 1, 1, 361)\n",
      "(2, 'WHOPPER DUPLO', 1, 2, 1, 456)\n",
      "(3, 'WHOPPER FURIOSO', 1, 3, 1, 386)\n",
      "(4, 'WHOPPER JR.', 1, 4, 1, 196)\n",
      "(5, 'WHOPPER JR. BARBECUE BACON', 1, 5, 1, 249)\n",
      "(6, 'HAMBÚRGUER', 1, 6, 2, 124)\n",
      "(7, 'CHEESEBURGER DUPLO', 1, 7, 2, 212)\n",
      "(8, 'CHEESEBURGER BACON', 1, 8, 2, 144)\n",
      "(9, 'CHEESEBURGER DUPLO BACON', 1, 9, 2, 235)\n",
      "(10, 'STACKER DUPLO', 1, 10, 2, 235)\n",
      "(11, 'STACKER TRIPLO', 1, 11, 2, 486)\n",
      "(12, 'CHEDDAR', 1, 12, 2, 136)\n",
      "(13, 'CHEDDAR DUPLO', 1, 13, 2, 181)\n",
      "(14, 'BIG KING', 1, 14, 2, 312)\n",
      "(15, 'MEGA STACKER 2.0', 1, 15, 2, 407)\n"
     ]
    }
   ],
   "source": [
    "cur.execute(\"SELECT * FROM fast_food.product LIMIT 15;\")\n",
    "for r in cur.fetchall():\n",
    "   print(r)"
   ]
  },
  {
   "cell_type": "code",
   "execution_count": 48,
   "metadata": {},
   "outputs": [
    {
     "name": "stdout",
     "output_type": "stream",
     "text": [
      "('id_product', 'int', 'NO', 'PRI', None, 'auto_increment')\n",
      "('name', 'varchar(500)', 'YES', '', None, '')\n",
      "('chain_id_chain', 'int', 'NO', 'MUL', None, '')\n",
      "('nutricional_units_id_nutricional_units', 'int', 'NO', 'MUL', None, '')\n",
      "('category_id_category', 'int', 'NO', 'MUL', None, '')\n",
      "('serving_size', 'int', 'YES', '', None, '')\n"
     ]
    }
   ],
   "source": [
    "cur.execute(\"DESCRIBE fast_food.product;\")\n",
    "for r in cur.fetchall():\n",
    "   print(r)"
   ]
  },
  {
   "cell_type": "code",
   "execution_count": 57,
   "metadata": {
    "collapsed": true,
    "jupyter": {
     "outputs_hidden": true,
     "source_hidden": true
    }
   },
   "outputs": [
    {
     "name": "stdout",
     "output_type": "stream",
     "text": [
      "(3876, 199, 43)\n"
     ]
    }
   ],
   "source": [
    "cur.execute(\"SELECT COUNT(DISTINCT city) , COUNT(DISTINCT state) , COUNT(DISTINCT country) FROM fast_food.address;\") \n",
    "for r in cur.fetchall():\n",
    "   print(r)"
   ]
  }
 ],
 "metadata": {
  "kernelspec": {
   "display_name": "Python 3",
   "language": "python",
   "name": "python3"
  },
  "language_info": {
   "codemirror_mode": {
    "name": "ipython",
    "version": 3
   },
   "file_extension": ".py",
   "mimetype": "text/x-python",
   "name": "python",
   "nbconvert_exporter": "python",
   "pygments_lexer": "ipython3",
   "version": "3.7.4"
  }
 },
 "nbformat": 4,
 "nbformat_minor": 4
}
